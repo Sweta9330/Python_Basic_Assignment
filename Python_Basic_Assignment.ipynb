{
  "nbformat": 4,
  "nbformat_minor": 0,
  "metadata": {
    "colab": {
      "provenance": []
    },
    "kernelspec": {
      "name": "python3",
      "display_name": "Python 3"
    },
    "language_info": {
      "name": "python"
    }
  },
  "cells": [
    {
      "cell_type": "markdown",
      "source": [
        "#    **Python Basic - Module 03 (Theory)**\n"
      ],
      "metadata": {
        "id": "mZMdGSZBIkk9"
      }
    },
    {
      "cell_type": "markdown",
      "source": [
        "\n",
        "1.\t What is Python, and why is it popular?\n",
        "Ans:- Python is general purpose programming language. Python is popular as it’s a powerful, flexible and beginner friendly language. Also another reason is it’s readability, extensive libraries and wide range of applications.\n",
        "2.\tWhat is an interpreter in Python?\n",
        "Ans:- In python, an interpreter is a program that reads and executes python code line by line. It has interpreters like CPython which uses various optimizations including catching byte codes to cut down the interpretation run time which makes it faster than the other interpreters.\n",
        "3.\t¬What are pre-defined keywords in Python?\n",
        "Ans:- Keywords are special reserved words in python that have special meanings and are used to define the syntax of language. The few keywords are –  \n",
        "•\tTrue\n",
        "•\tFalse\n",
        "•\tif\n",
        "•\telse\n",
        "•\telif\n",
        "•\twhile\n",
        "\n",
        "4.\tCan keywords be used as variable names?\n",
        "Ans:- No, keywords cannot be used as variable names.\n",
        "5.\tWhat is mutability in Python?\n",
        "Ans:- In Python mutability means when the user can change the change the value or state of an object even after its creation. It means the value is not being saved in memory, hence we can add, remove or change the element of the object. The mutable data types are – i) List, ii) dict, iii) set, e.t.c\n",
        "6.\tWhy are lists mutable, but tuples are immutable?\n",
        "Ans:- Lists are mutable because there primary purpose is to represent collection of items that are expected to change overtime, this makes it a highly flexible data structure for collections that require frequent addition, removal or modification.\n",
        "Tuples are immutable because there primary purpose is to be in a guaranteed state with predictable behavior as it is designed for developers to print a specific form of data which is fixed.\n",
        "7.\tWhat is the difference between “==” and “is” operators in Python?\n",
        "Ans:- In Python, “==” and “is” are both comparison operators but they served different fundamental purposes where “==” is used for compare values and “is” is  use to compare identities as per memory operators.\n",
        "8.\tWhat are logical operators in Python?\n",
        "Ans:- In Python, logical operators are used to combine conditional statements and to perform logical operations. They are crucial for controlling the flow of your program based on multiple conditions. Some examples are – “and”, “or”, “not”.\n",
        "9.\tWhat is type casting in Python?\n",
        "Ans:- In Python, type casting refers to the process when an user can convert the data type of an variable  into another data type. For example if you have an input as string and you need that as a int or float data type, you can convert that into int or float.\n",
        "10.\t What is the difference between implicit and explicit type casting?\n",
        "Ans:- In implicit casting the python interpretable automatically decide the conversion of the data type. However, in explicit casting the user manually decides or converts the data type. This is the main difference between implicit and explicit type casting.\n",
        "11.\tWhat is the purpose of conditional statements in Python?\n",
        "Ans:- The purpose of conditional statements in python is to control the flow of execution. It acts depending on whether the given condition is True or False. e.x – if(), else(), elif().\n",
        "12.\tHow does the elif statement work?\n",
        "Ans:- In python, elif statement is short for else if. It’s a part of conditional statement which allows you to execute multiple condition sequentially after using one if statement.\n",
        "13.\tWhat is the difference between for and while loops?\n",
        "Ans:-b For loop is primarily used for iteration over a sequence or for a predetermined number of times like a list, tuple etc. Where the while loop is used to repeatedly execute a block of code as long as a certain condition remains true.\n",
        "14.\tDescribe a scenario where a while loop is more suitable than a for loop.\n",
        "Ans:- Suppose a user needs to enter a specific type of input, like a password and you want to keep prompting them repeatedly until they provide valid input. You don’t know how many attempts the user will need -\n",
        "If we use a while loop here we can predefined sequence or range, which doesn’t fit this “keep going until valid” cause we don’t know that how many times the user will enter the incorrect password. The loop needs to continue as long as the input is invalid. This is a valid while loop.\n"
      ],
      "metadata": {
        "id": "6hdNHuN8J7VS"
      }
    },
    {
      "cell_type": "code",
      "source": [],
      "metadata": {
        "id": "inXIsjs4U3su"
      },
      "execution_count": null,
      "outputs": []
    },
    {
      "cell_type": "code",
      "source": [],
      "metadata": {
        "id": "sa-HpciBKI39"
      },
      "execution_count": null,
      "outputs": []
    },
    {
      "cell_type": "markdown",
      "source": [
        "# **Practical Questions**"
      ],
      "metadata": {
        "id": "bgxKd9BfKtTQ"
      }
    },
    {
      "cell_type": "markdown",
      "source": [
        "1. Write a Python program to print \"Hello, World!\""
      ],
      "metadata": {
        "id": "M8pYfbuKLPDP"
      }
    },
    {
      "cell_type": "code",
      "source": [
        "print(\"Hello, World!\")"
      ],
      "metadata": {
        "colab": {
          "base_uri": "https://localhost:8080/"
        },
        "id": "Eq1_MPqHLV5S",
        "outputId": "a1b3f26d-19cc-4c21-9536-471e8129c89e"
      },
      "execution_count": null,
      "outputs": [
        {
          "output_type": "stream",
          "name": "stdout",
          "text": [
            "Hello, World!\n"
          ]
        }
      ]
    },
    {
      "cell_type": "markdown",
      "source": [
        "2. Write a Python program that displays your name and age."
      ],
      "metadata": {
        "id": "ID_01EbkLl6u"
      }
    },
    {
      "cell_type": "code",
      "source": [
        "Name= \"Sweta\"\n",
        "Age= 22\n",
        "print(\"My name is \", Name)\n",
        "print(\"My age is \", Age)"
      ],
      "metadata": {
        "colab": {
          "base_uri": "https://localhost:8080/"
        },
        "id": "UcHrv7mxLqmy",
        "outputId": "fe0c1e34-94bc-4e0e-f47f-9f73eff6156f"
      },
      "execution_count": null,
      "outputs": [
        {
          "output_type": "stream",
          "name": "stdout",
          "text": [
            "My name is  Sweta\n",
            "My age is  22\n"
          ]
        }
      ]
    },
    {
      "cell_type": "markdown",
      "source": [
        "3. Write code to print all the pre-defined keywords in Python using the keyword library"
      ],
      "metadata": {
        "id": "W7sShCt-MtEF"
      }
    },
    {
      "cell_type": "code",
      "source": [
        "import keyword\n",
        "print(keyword.kwlist)"
      ],
      "metadata": {
        "colab": {
          "base_uri": "https://localhost:8080/"
        },
        "id": "YRacxTR1Mzto",
        "outputId": "46f354bd-5e08-4d3e-a7c7-c1ae7aab9db6"
      },
      "execution_count": null,
      "outputs": [
        {
          "output_type": "stream",
          "name": "stdout",
          "text": [
            "['False', 'None', 'True', 'and', 'as', 'assert', 'async', 'await', 'break', 'class', 'continue', 'def', 'del', 'elif', 'else', 'except', 'finally', 'for', 'from', 'global', 'if', 'import', 'in', 'is', 'lambda', 'nonlocal', 'not', 'or', 'pass', 'raise', 'return', 'try', 'while', 'with', 'yield']\n"
          ]
        }
      ]
    },
    {
      "cell_type": "markdown",
      "source": [
        "4. Write a program that checks if a given word is a Python keyword."
      ],
      "metadata": {
        "id": "ZqKVXD2GSfdn"
      }
    },
    {
      "cell_type": "code",
      "source": [
        "import keyword\n",
        "\n",
        "def a(word):\n",
        "    return keyword.iskeyword(word)\n",
        "\n",
        "word = \"No\"\n",
        "if a(word):\n",
        "    print(f\"'{word}' is a Python keyword.\")\n",
        "else:\n",
        "    print(f\"'{word}' is NOT a Python keyword.\")"
      ],
      "metadata": {
        "id": "hqiQ-Qo_N4E_",
        "colab": {
          "base_uri": "https://localhost:8080/"
        },
        "outputId": "ecc3b70d-cf70-49fd-9926-247906f02cdf"
      },
      "execution_count": 10,
      "outputs": [
        {
          "output_type": "stream",
          "name": "stdout",
          "text": [
            "'No' is NOT a Python keyword.\n"
          ]
        }
      ]
    },
    {
      "cell_type": "markdown",
      "source": [
        "5. Create a list and tuple in Python, and demonstrate how attempting to change an element works differently\n",
        "for each."
      ],
      "metadata": {
        "id": "f7dPgFC2V3Zn"
      }
    },
    {
      "cell_type": "code",
      "source": [
        "#List\n",
        "\n",
        "list=[20,30,50,\"Camera\",\"Sweta\"]\n",
        "print(list)\n"
      ],
      "metadata": {
        "colab": {
          "base_uri": "https://localhost:8080/"
        },
        "id": "7Qm9n2KjV8sy",
        "outputId": "34040097-2f4a-4b28-acc4-cd247384accc"
      },
      "execution_count": null,
      "outputs": [
        {
          "output_type": "stream",
          "name": "stdout",
          "text": [
            "[20, 30, 50, 'Camera', 'Sweta']\n"
          ]
        }
      ]
    },
    {
      "cell_type": "code",
      "source": [
        "list[3]=\"Picture\"\n",
        "print(list)"
      ],
      "metadata": {
        "colab": {
          "base_uri": "https://localhost:8080/"
        },
        "id": "G1bTwH30Xo4h",
        "outputId": "0476f23f-3634-4415-9c69-e9a5ecb79c3e"
      },
      "execution_count": null,
      "outputs": [
        {
          "output_type": "stream",
          "name": "stdout",
          "text": [
            "[20, 30, 50, 'Picture', 'Sweta']\n"
          ]
        }
      ]
    },
    {
      "cell_type": "code",
      "source": [
        "# Tupple\n",
        "\n",
        "Nature=(\"River\", \"Sky\", \"Ocean\", \"Tree\")\n",
        "print(Nature)"
      ],
      "metadata": {
        "colab": {
          "base_uri": "https://localhost:8080/"
        },
        "id": "o-0uSTu1NJfZ",
        "outputId": "b76b1f87-5cdd-4c93-8527-2f51a094e2cf"
      },
      "execution_count": null,
      "outputs": [
        {
          "output_type": "stream",
          "name": "stdout",
          "text": [
            "('River', 'Sky', 'Ocean', 'Tree')\n"
          ]
        }
      ]
    },
    {
      "cell_type": "code",
      "source": [
        "Nature[2]=\"Waves\"\n",
        "print(Nature)"
      ],
      "metadata": {
        "colab": {
          "base_uri": "https://localhost:8080/",
          "height": 159
        },
        "id": "OgY25UEYaRBT",
        "outputId": "0b3b2b21-c274-45f9-b792-e8a3752e3198"
      },
      "execution_count": null,
      "outputs": [
        {
          "output_type": "error",
          "ename": "TypeError",
          "evalue": "'tuple' object does not support item assignment",
          "traceback": [
            "\u001b[0;31m---------------------------------------------------------------------------\u001b[0m",
            "\u001b[0;31mTypeError\u001b[0m                                 Traceback (most recent call last)",
            "\u001b[0;32m/tmp/ipython-input-26-2991257573.py\u001b[0m in \u001b[0;36m<cell line: 0>\u001b[0;34m()\u001b[0m\n\u001b[0;32m----> 1\u001b[0;31m \u001b[0mNature\u001b[0m\u001b[0;34m[\u001b[0m\u001b[0;36m2\u001b[0m\u001b[0;34m]\u001b[0m\u001b[0;34m=\u001b[0m\u001b[0;34m\"Waves\"\u001b[0m\u001b[0;34m\u001b[0m\u001b[0;34m\u001b[0m\u001b[0m\n\u001b[0m\u001b[1;32m      2\u001b[0m \u001b[0mprint\u001b[0m\u001b[0;34m(\u001b[0m\u001b[0mNature\u001b[0m\u001b[0;34m)\u001b[0m\u001b[0;34m\u001b[0m\u001b[0;34m\u001b[0m\u001b[0m\n",
            "\u001b[0;31mTypeError\u001b[0m: 'tuple' object does not support item assignment"
          ]
        }
      ]
    },
    {
      "cell_type": "markdown",
      "source": [
        "6. Write a function to demonstrate the behavior of mutable and immutable arguments."
      ],
      "metadata": {
        "id": "CwEsbdO3aiFN"
      }
    },
    {
      "cell_type": "code",
      "source": [
        "def test_args(x, lst):\n",
        "    x += 1\n",
        "    lst.append(99)\n",
        "\n",
        "a = 10\n",
        "b = [1, 2, 3]\n",
        "\n",
        "test_args(a, b)\n",
        "\n",
        "print(\"a:\", a)\n",
        "print(\"b:\", b)"
      ],
      "metadata": {
        "id": "vynBjgonasqG",
        "colab": {
          "base_uri": "https://localhost:8080/"
        },
        "outputId": "17f0a096-24c2-4d7f-9706-d6ee8f6ae38b"
      },
      "execution_count": 1,
      "outputs": [
        {
          "output_type": "stream",
          "name": "stdout",
          "text": [
            "a: 10\n",
            "b: [1, 2, 3, 99]\n"
          ]
        }
      ]
    },
    {
      "cell_type": "markdown",
      "source": [
        " 7.Write a program that performs basic arithmetic operations on two user-input numbers."
      ],
      "metadata": {
        "id": "OgcFoeTpatez"
      }
    },
    {
      "cell_type": "code",
      "source": [
        "a= int(input(\"Enter the first number: \"))\n",
        "b= int(input(\"Enter the second number: \"))\n",
        "Addition= a+b\n",
        "Subtraction= a-b\n",
        "Multiplication= a*b\n",
        "Division= a/b\n",
        "print(f\"The sum of 2 num is {Addition}\")\n",
        "print(f\"The sub of 2 num id {Subtraction}\")\n",
        "print(f\"The mul of 2 num is {Multiplication}\")\n",
        "print(f\"The div of 2 num is {Division}\")"
      ],
      "metadata": {
        "colab": {
          "base_uri": "https://localhost:8080/"
        },
        "id": "rqDh-T2Xay5W",
        "outputId": "27bd6223-e0df-4ef5-f3c3-a73e9282c936"
      },
      "execution_count": null,
      "outputs": [
        {
          "output_type": "stream",
          "name": "stdout",
          "text": [
            "Enter the first number: 25\n",
            "Enter the second number: 5\n",
            "The sum of 2 num is 30\n",
            "The sub of 2 num id 20\n",
            "The mul of 2 num is 125\n",
            "The div of 2 num is 5.0\n"
          ]
        }
      ]
    },
    {
      "cell_type": "markdown",
      "source": [
        " 8.Write a program to demonstrate the use of logical operators."
      ],
      "metadata": {
        "id": "_mbcqEAfcK8y"
      }
    },
    {
      "cell_type": "code",
      "source": [
        "a= True\n",
        "b= False\n",
        "a and b"
      ],
      "metadata": {
        "colab": {
          "base_uri": "https://localhost:8080/"
        },
        "id": "5hhOkNMnd23D",
        "outputId": "7289de6f-ef34-4e09-b41a-e14093fa616a"
      },
      "execution_count": null,
      "outputs": [
        {
          "output_type": "execute_result",
          "data": {
            "text/plain": [
              "False"
            ]
          },
          "metadata": {},
          "execution_count": 29
        }
      ]
    },
    {
      "cell_type": "code",
      "source": [
        "a or b"
      ],
      "metadata": {
        "colab": {
          "base_uri": "https://localhost:8080/"
        },
        "id": "iXR6Jjoyd_zL",
        "outputId": "705acae0-a1f6-45ee-f993-74373180868c"
      },
      "execution_count": null,
      "outputs": [
        {
          "output_type": "execute_result",
          "data": {
            "text/plain": [
              "True"
            ]
          },
          "metadata": {},
          "execution_count": 30
        }
      ]
    },
    {
      "cell_type": "markdown",
      "source": [
        "9.Write a Python program to convert user input from string to integer, float, and boolean types"
      ],
      "metadata": {
        "id": "RhqVs6g_ed35"
      }
    },
    {
      "cell_type": "code",
      "source": [
        "a= \"10\"\n",
        "type(a)"
      ],
      "metadata": {
        "colab": {
          "base_uri": "https://localhost:8080/"
        },
        "id": "eSGnbxmSejV1",
        "outputId": "9b24fcc2-a793-428f-cf4d-34ddfb7553ea"
      },
      "execution_count": null,
      "outputs": [
        {
          "output_type": "execute_result",
          "data": {
            "text/plain": [
              "str"
            ]
          },
          "metadata": {},
          "execution_count": 31
        }
      ]
    },
    {
      "cell_type": "code",
      "source": [
        "a= int(a)\n",
        "print(a)\n",
        "type(a)"
      ],
      "metadata": {
        "colab": {
          "base_uri": "https://localhost:8080/"
        },
        "id": "hjv1bgHpe1Iq",
        "outputId": "f246a4b9-38c6-43cd-ee65-d2f4739b7aba"
      },
      "execution_count": null,
      "outputs": [
        {
          "output_type": "stream",
          "name": "stdout",
          "text": [
            "10\n"
          ]
        },
        {
          "output_type": "execute_result",
          "data": {
            "text/plain": [
              "int"
            ]
          },
          "metadata": {},
          "execution_count": 37
        }
      ]
    },
    {
      "cell_type": "code",
      "source": [
        "a= float(a)\n",
        "print(a)\n",
        "type(a)"
      ],
      "metadata": {
        "colab": {
          "base_uri": "https://localhost:8080/"
        },
        "id": "255HOzxne6-w",
        "outputId": "be4c9054-b01f-4cd6-a225-90533e570c1f"
      },
      "execution_count": null,
      "outputs": [
        {
          "output_type": "stream",
          "name": "stdout",
          "text": [
            "10.0\n"
          ]
        },
        {
          "output_type": "execute_result",
          "data": {
            "text/plain": [
              "float"
            ]
          },
          "metadata": {},
          "execution_count": 35
        }
      ]
    },
    {
      "cell_type": "code",
      "source": [
        "a= bool(a)\n",
        "print(a)\n",
        "type(a)"
      ],
      "metadata": {
        "colab": {
          "base_uri": "https://localhost:8080/"
        },
        "id": "qCRiwsjDfAJ5",
        "outputId": "84640ce2-f0a1-4291-d7c6-3876e4df3fa6"
      },
      "execution_count": null,
      "outputs": [
        {
          "output_type": "stream",
          "name": "stdout",
          "text": [
            "True\n"
          ]
        },
        {
          "output_type": "execute_result",
          "data": {
            "text/plain": [
              "bool"
            ]
          },
          "metadata": {},
          "execution_count": 38
        }
      ]
    },
    {
      "cell_type": "markdown",
      "source": [
        " 10.Write code to demonstrate type casting with list elements."
      ],
      "metadata": {
        "id": "YGOBNEMCfbOA"
      }
    },
    {
      "cell_type": "code",
      "source": [
        "Num=[23,25,65,47]\n",
        "print(\"This is an example of a list:\", Num)"
      ],
      "metadata": {
        "colab": {
          "base_uri": "https://localhost:8080/"
        },
        "id": "bQyf7c5Df8qn",
        "outputId": "23c44d27-4813-4931-c68a-cede3a70bba4"
      },
      "execution_count": 4,
      "outputs": [
        {
          "output_type": "stream",
          "name": "stdout",
          "text": [
            "This is an example of a list: [23, 25, 65, 47]\n"
          ]
        }
      ]
    },
    {
      "cell_type": "code",
      "source": [
        "#Showing the value with explicit casting\n",
        "x =Num[3]\n",
        "x = float(x)\n",
        "print(x)"
      ],
      "metadata": {
        "colab": {
          "base_uri": "https://localhost:8080/"
        },
        "id": "Z_2-ERSEjzPh",
        "outputId": "4583cc17-5f0a-4479-bad3-1004276179b6"
      },
      "execution_count": 7,
      "outputs": [
        {
          "output_type": "stream",
          "name": "stdout",
          "text": [
            "47.0\n"
          ]
        }
      ]
    },
    {
      "cell_type": "code",
      "source": [
        "type(x)"
      ],
      "metadata": {
        "colab": {
          "base_uri": "https://localhost:8080/"
        },
        "id": "F7u33QLTI_vq",
        "outputId": "3cb339ab-4b83-43ea-e45d-aca6b451f956"
      },
      "execution_count": 9,
      "outputs": [
        {
          "output_type": "execute_result",
          "data": {
            "text/plain": [
              "float"
            ]
          },
          "metadata": {},
          "execution_count": 9
        }
      ]
    },
    {
      "cell_type": "markdown",
      "source": [
        "11. Write a program that checks if a number is positive, negative, or zero."
      ],
      "metadata": {
        "id": "nOLuh7Y53g3S"
      }
    },
    {
      "cell_type": "code",
      "source": [
        "Number= int(input(\"Enter a number\"))\n",
        "if Number>=0:\n",
        "  if Number==0:\n",
        "    print(\"Zero\")\n",
        "  else:\n",
        "    print(\"The number is positive\")\n",
        "else:\n",
        "  print(\"The number is negative\")"
      ],
      "metadata": {
        "colab": {
          "base_uri": "https://localhost:8080/"
        },
        "id": "eOiGAuK54DGg",
        "outputId": "63bb482b-ed20-43b5-d9b3-3a2406bc900e"
      },
      "execution_count": 1,
      "outputs": [
        {
          "output_type": "stream",
          "name": "stdout",
          "text": [
            "Enter a number45\n",
            "The number is positive\n"
          ]
        }
      ]
    },
    {
      "cell_type": "markdown",
      "source": [
        "12. Write a for loop to print numbers from 1 to 10."
      ],
      "metadata": {
        "id": "VJRB738HCuNk"
      }
    },
    {
      "cell_type": "code",
      "source": [
        "a= list(range(1,11))\n",
        "\n",
        "for i in a:\n",
        "  print(i)"
      ],
      "metadata": {
        "colab": {
          "base_uri": "https://localhost:8080/"
        },
        "id": "di2VAHOpCxTG",
        "outputId": "39d1d2a6-9554-4b49-8a68-d1d12d85aa21"
      },
      "execution_count": 2,
      "outputs": [
        {
          "output_type": "stream",
          "name": "stdout",
          "text": [
            "1\n",
            "2\n",
            "3\n",
            "4\n",
            "5\n",
            "6\n",
            "7\n",
            "8\n",
            "9\n",
            "10\n"
          ]
        }
      ]
    },
    {
      "cell_type": "code",
      "source": [],
      "metadata": {
        "id": "Hje1upkNDJrR"
      },
      "execution_count": null,
      "outputs": []
    },
    {
      "cell_type": "markdown",
      "source": [
        "13. Write a Python program to find the sum of all even numbers between 1 and 50"
      ],
      "metadata": {
        "id": "UFfkWHIKKDh0"
      }
    },
    {
      "cell_type": "code",
      "source": [
        "a= list(range(1,51))\n",
        "b= []\n",
        "\n",
        "for i in a:\n",
        "  if i%2==0:\n",
        "    b.append(i)\n",
        "print(sum(b))\n",
        "print(b)"
      ],
      "metadata": {
        "colab": {
          "base_uri": "https://localhost:8080/"
        },
        "id": "gJK6muE_KPrm",
        "outputId": "9e0a48d1-4c01-4767-a148-6a869c70e3f8"
      },
      "execution_count": 11,
      "outputs": [
        {
          "output_type": "stream",
          "name": "stdout",
          "text": [
            "650\n",
            "[2, 4, 6, 8, 10, 12, 14, 16, 18, 20, 22, 24, 26, 28, 30, 32, 34, 36, 38, 40, 42, 44, 46, 48, 50]\n"
          ]
        }
      ]
    },
    {
      "cell_type": "markdown",
      "source": [
        "14. Write a program to reverse a string using a while loop."
      ],
      "metadata": {
        "id": "bBe4mh_cmwFj"
      }
    },
    {
      "cell_type": "code",
      "source": [
        "def x(s):\n",
        "\n",
        "    a = \"\"\n",
        "    b = len(s) - 1\n",
        "\n",
        "    while b >= 0:\n",
        "        a += s[b]\n",
        "        b -= 1\n",
        "    return a\n",
        "\n",
        "result= x(\"Sweta\")\n",
        "print(result)"
      ],
      "metadata": {
        "id": "LmryE0yEKC8S"
      },
      "execution_count": null,
      "outputs": []
    },
    {
      "cell_type": "markdown",
      "source": [
        "15.Write a Python program to calculate the factorial of a number provided by the . user using a while loop."
      ],
      "metadata": {
        "id": "X7C_YJKvo0oq"
      }
    },
    {
      "cell_type": "code",
      "source": [
        "factorial = 1\n",
        "i = 1\n",
        "a = int(input(\"Enter a non-negative integer to calculate its factorial: \"))\n",
        "while i <= a:\n",
        "  factorial *= i\n",
        "  i += 1\n",
        "print(f\"The factorial of {a} is {factorial}\")"
      ],
      "metadata": {
        "colab": {
          "base_uri": "https://localhost:8080/"
        },
        "id": "y5-o3ggY4wsX",
        "outputId": "04ba0943-d908-47c1-cd26-0338881d74b4"
      },
      "execution_count": 11,
      "outputs": [
        {
          "output_type": "stream",
          "name": "stdout",
          "text": [
            "Enter a non-negative integer to calculate its factorial: 5\n",
            "The factorial of 5 is 120\n"
          ]
        }
      ]
    },
    {
      "cell_type": "code",
      "source": [],
      "metadata": {
        "id": "PZTdXOUgkVLv"
      },
      "execution_count": null,
      "outputs": []
    },
    {
      "cell_type": "code",
      "source": [],
      "metadata": {
        "id": "Cr6dRks3kJPZ"
      },
      "execution_count": null,
      "outputs": []
    },
    {
      "cell_type": "code",
      "source": [],
      "metadata": {
        "id": "HsUUIVPnjwR8"
      },
      "execution_count": null,
      "outputs": []
    },
    {
      "cell_type": "code",
      "source": [],
      "metadata": {
        "id": "X9JmFwgpjrF7"
      },
      "execution_count": null,
      "outputs": []
    },
    {
      "cell_type": "code",
      "source": [],
      "metadata": {
        "id": "nnOta2-hjoEr"
      },
      "execution_count": null,
      "outputs": []
    },
    {
      "cell_type": "code",
      "source": [],
      "metadata": {
        "id": "Gjbl_sTrgeQt"
      },
      "execution_count": null,
      "outputs": []
    },
    {
      "cell_type": "code",
      "source": [],
      "metadata": {
        "id": "2A8-pzzOhPc2"
      },
      "execution_count": null,
      "outputs": []
    },
    {
      "cell_type": "code",
      "source": [],
      "metadata": {
        "id": "sQPThcV7gRjV"
      },
      "execution_count": null,
      "outputs": []
    },
    {
      "cell_type": "code",
      "source": [],
      "metadata": {
        "id": "SW0ksK91fXxk"
      },
      "execution_count": null,
      "outputs": []
    },
    {
      "cell_type": "code",
      "source": [],
      "metadata": {
        "id": "FzXLu4kCeBg5"
      },
      "execution_count": null,
      "outputs": []
    },
    {
      "cell_type": "code",
      "source": [],
      "metadata": {
        "id": "Y_LMgYtWb9GJ"
      },
      "execution_count": null,
      "outputs": []
    },
    {
      "cell_type": "code",
      "source": [],
      "metadata": {
        "id": "99xqsfauafmK"
      },
      "execution_count": null,
      "outputs": []
    },
    {
      "cell_type": "code",
      "source": [],
      "metadata": {
        "id": "xnNanXCmaO24"
      },
      "execution_count": null,
      "outputs": []
    },
    {
      "cell_type": "code",
      "source": [],
      "metadata": {
        "id": "0xzgfeQzaMtf"
      },
      "execution_count": null,
      "outputs": []
    }
  ]
}